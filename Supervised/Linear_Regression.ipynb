{
  "nbformat": 4,
  "nbformat_minor": 0,
  "metadata": {
    "colab": {
      "name": "Linear Regression.ipynb",
      "version": "0.3.2",
      "provenance": [],
      "include_colab_link": true
    },
    "kernelspec": {
      "name": "python3",
      "display_name": "Python 3"
    }
  },
  "cells": [
    {
      "cell_type": "markdown",
      "metadata": {
        "id": "view-in-github",
        "colab_type": "text"
      },
      "source": [
        "<a href=\"https://colab.research.google.com/github/KelianF/MachineLearning/blob/master/Supervised/Linear_Regression.ipynb\" target=\"_parent\"><img src=\"https://colab.research.google.com/assets/colab-badge.svg\" alt=\"Open In Colab\"/></a>"
      ]
    },
    {
      "cell_type": "markdown",
      "metadata": {
        "id": "YpCK3YhYbXpt",
        "colab_type": "text"
      },
      "source": [
        "# Implementation of Linear Regression\n",
        "## Imports"
      ]
    },
    {
      "cell_type": "code",
      "metadata": {
        "id": "6Rcbqda9Uqip",
        "colab_type": "code",
        "colab": {}
      },
      "source": [
        "import numpy as np\n",
        "import matplotlib.pyplot as plt\n",
        "import seaborn as sns\n",
        "sns.set_style('darkgrid')"
      ],
      "execution_count": 0,
      "outputs": []
    },
    {
      "cell_type": "markdown",
      "metadata": {
        "id": "2avpSOXAbbpR",
        "colab_type": "text"
      },
      "source": [
        "## Set up data and display it"
      ]
    },
    {
      "cell_type": "code",
      "metadata": {
        "id": "1JmMOxP1VIau",
        "colab_type": "code",
        "colab": {
          "base_uri": "https://localhost:8080/",
          "height": 300
        },
        "outputId": "56e7390e-31b7-4db5-9451-06f7a8175d74"
      },
      "source": [
        "#Defining the x array. \n",
        "x=np.array(range(1,100)) \n",
        "\n",
        "\n",
        "#Defining the y array. \n",
        "y=10+2*x.ravel() \n",
        "y=y+np.random.normal(loc=0, scale=70, size=99)\n",
        "\n",
        "\n",
        "plt.scatter(x,y, color='blue')\n",
        "plt.xlabel('x') \n",
        "plt.ylabel('y')\n"
      ],
      "execution_count": 50,
      "outputs": [
        {
          "output_type": "execute_result",
          "data": {
            "text/plain": [
              "Text(0, 0.5, 'y')"
            ]
          },
          "metadata": {
            "tags": []
          },
          "execution_count": 50
        },
        {
          "output_type": "display_data",
          "data": {
            "image/png": "[encoded data removed]",
            "text/plain": [
              "<Figure size 432x288 with 1 Axes>"
            ]
          },
          "metadata": {
            "tags": []
          }
        }
      ]
    },
    {
      "cell_type": "markdown",
      "metadata": {
        "id": "vBErbOFRV0wH",
        "colab_type": "text"
      },
      "source": [
        "# Using Scikit-Learn\n",
        "## Imports\n"
      ]
    },
    {
      "cell_type": "code",
      "metadata": {
        "id": "a8f6_L9ZdX1D",
        "colab_type": "code",
        "colab": {}
      },
      "source": [
        "from sklearn.linear_model import LinearRegression"
      ],
      "execution_count": 0,
      "outputs": []
    },
    {
      "cell_type": "code",
      "metadata": {
        "id": "SAVtVyyAdkEA",
        "colab_type": "code",
        "colab": {}
      },
      "source": [
        "Reg = LinearRegression()\n",
        "Reg.fit(x[:, np.newaxis],y[:,np.newaxis])\n",
        "y_hat=Reg.predict(x[:, np.newaxis])\n"
      ],
      "execution_count": 0,
      "outputs": []
    },
    {
      "cell_type": "code",
      "metadata": {
        "id": "q0p2IIR7ekzK",
        "colab_type": "code",
        "colab": {
          "base_uri": "https://localhost:8080/",
          "height": 69
        },
        "outputId": "acb3eca8-7ef0-4dd0-b7c0-6c827a81f062"
      },
      "source": [
        "print('Intercept is: ' + str(round(Reg.intercept_[0],3)))\n",
        "print('Coef is/are: ' + str(Reg.coef_))\n",
        "\n",
        "print('R2 is: ' + str(round(Reg.score(x[:, np.newaxis],y[:, np.newaxis]),2))) \n"
      ],
      "execution_count": 61,
      "outputs": [
        {
          "output_type": "stream",
          "text": [
            "Intercept is: 18.703\n",
            "Coef is/are: [[1.8352312]]\n",
            "R2 is: 0.35\n"
          ],
          "name": "stdout"
        }
      ]
    },
    {
      "cell_type": "markdown",
      "metadata": {
        "id": "1hS1cL7gCYtl",
        "colab_type": "text"
      },
      "source": [
        "## Graphical representation"
      ]
    },
    {
      "cell_type": "code",
      "metadata": {
        "id": "XaO7RRI5ANkJ",
        "colab_type": "code",
        "colab": {
          "base_uri": "https://localhost:8080/",
          "height": 283
        },
        "outputId": "4e79bd3e-e1f2-4912-ecca-b371d4b237ca"
      },
      "source": [
        "plt.scatter(x,y, color='blue')\n",
        "plt.plot(x,y_hat, color='red')\n",
        "plt.plot((x[50],x[50]) ,(y[50], y_hat[50]), color='black')\n",
        "plt.xlabel('x') \n",
        "plt.ylabel('y')\n",
        "plt.show()"
      ],
      "execution_count": 56,
      "outputs": [
        {
          "output_type": "display_data",
          "data": {
            "image/png": "[encoded data removed]",
            "text/plain": [
              "<Figure size 432x288 with 1 Axes>"
            ]
          },
          "metadata": {
            "tags": []
          }
        }
      ]
    },
    {
      "cell_type": "markdown",
      "metadata": {
        "id": "fNpkBq_EJkYs",
        "colab_type": "text"
      },
      "source": [
        "This Graphical representation, shows the data and our model. \n",
        "\n",
        "I have added a line representing the difference between our model and the actual data, in econometrics, this is called ε. \n",
        "\n",
        "Hence, a regression is a minimisation problem of the sum of all the ε squared.\n",
        "\n",
        "\n",
        "Furthermore, the regression performed here is of the form Y on X, which explais why the ε is parallel to the Y axis. If the opposite was computed, the ε looked at for minimization would've been parallel to the X axis."
      ]
    },
    {
      "cell_type": "markdown",
      "metadata": {
        "id": "hQ0Z_jr6Oaan",
        "colab_type": "text"
      },
      "source": [
        "# Using Scipy\n",
        "\n",
        "## imports"
      ]
    },
    {
      "cell_type": "code",
      "metadata": {
        "id": "WyOhpm6_QLqO",
        "colab_type": "code",
        "colab": {}
      },
      "source": [
        "from scipy import stats"
      ],
      "execution_count": 0,
      "outputs": []
    },
    {
      "cell_type": "code",
      "metadata": {
        "id": "gIoSRwgUQPUE",
        "colab_type": "code",
        "colab": {}
      },
      "source": [
        "slope, intercept, r_value, p_value, std_err = stats.linregress(x,y)"
      ],
      "execution_count": 0,
      "outputs": []
    },
    {
      "cell_type": "code",
      "metadata": {
        "id": "NShbx8IXQT6f",
        "colab_type": "code",
        "colab": {
          "base_uri": "https://localhost:8080/",
          "height": 69
        },
        "outputId": "4e7c3968-f27e-4706-eede-0bb7a2d5b363"
      },
      "source": [
        "print('Intercept is: ' + str(round(intercept,3)))\n",
        "print('Coef is/are: ' + str(slope))\n",
        "\n",
        "print('R2 is: ' + str(round(r_value**2,2))) \n",
        "\n"
      ],
      "execution_count": 67,
      "outputs": [
        {
          "output_type": "stream",
          "text": [
            "Intercept is: 18.703\n",
            "Coef is/are: 1.835231197250304\n",
            "R2 is: 0.35\n"
          ],
          "name": "stdout"
        }
      ]
    },
    {
      "cell_type": "code",
      "metadata": {
        "id": "4ZFsY3hbUUW6",
        "colab_type": "code",
        "colab": {}
      },
      "source": [
        ""
      ],
      "execution_count": 0,
      "outputs": []
    }
  ]
}