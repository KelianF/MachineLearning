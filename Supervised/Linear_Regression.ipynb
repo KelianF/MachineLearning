{
  "nbformat": 4,
  "nbformat_minor": 0,
  "metadata": {
    "colab": {
      "name": "Linear Regression.ipynb",
      "version": "0.3.2",
      "provenance": [],
      "include_colab_link": true
    },
    "kernelspec": {
      "name": "python3",
      "display_name": "Python 3"
    }
  },
  "cells": [
    {
      "cell_type": "markdown",
      "metadata": {
        "id": "view-in-github",
        "colab_type": "text"
      },
      "source": [
        "<a href=\"https://colab.research.google.com/github/KelianF/MachineLearning/blob/master/Supervised/Linear_Regression.ipynb\" target=\"_parent\"><img src=\"https://colab.research.google.com/assets/colab-badge.svg\" alt=\"Open In Colab\"/></a>"
      ]
    },
    {
      "cell_type": "markdown",
      "metadata": {
        "id": "YpCK3YhYbXpt",
        "colab_type": "text"
      },
      "source": [
        "# Implementation of Linear Regression\n",
        "## Imports"
      ]
    },
    {
      "cell_type": "code",
      "metadata": {
        "id": "6Rcbqda9Uqip",
        "colab_type": "code",
        "colab": {}
      },
      "source": [
        "import numpy as np\n",
        "import matplotlib.pyplot as plt\n",
        "import seaborn as sns\n",
        "sns.set_style('darkgrid')"
      ],
      "execution_count": 0,
      "outputs": []
    },
    {
      "cell_type": "markdown",
      "metadata": {
        "id": "2avpSOXAbbpR",
        "colab_type": "text"
      },
      "source": [
        "## Set up data and display it"
      ]
    },
    {
      "cell_type": "code",
      "metadata": {
        "id": "1JmMOxP1VIau",
        "colab_type": "code",
        "colab": {
          "base_uri": "https://localhost:8080/",
          "height": 300
        },
        "outputId": "3baf32e6-c215-46c9-b373-31dd9ca0f3c9"
      },
      "source": [
        "#Defining the x array. \n",
        "x=np.array(range(1,100)) \n",
        "x=x[:, np.newaxis]\n",
        "\n",
        "#Defining the y array. \n",
        "y=10+2*x.ravel() \n",
        "y=y+np.random.normal(loc=0, scale=70, size=99)\n",
        "y=y[:,np.newaxis]\n",
        "\n",
        "plt.scatter(x,y, color='blue')\n",
        "plt.xlabel('x') \n",
        "plt.ylabel('y')\n"
      ],
      "execution_count": 68,
      "outputs": [
        {
          "output_type": "execute_result",
          "data": {
            "text/plain": [
              "Text(0, 0.5, 'y')"
            ]
          },
          "metadata": {
            "tags": []
          },
          "execution_count": 68
        },
        {
          "output_type": "display_data",
          "data": {
            "image/png": "[encoded data removed]",
            "text/plain": [
              "<Figure size 432x288 with 1 Axes>"
            ]
          },
          "metadata": {
            "tags": []
          }
        }
      ]
    },
    {
      "cell_type": "markdown",
      "metadata": {
        "id": "vBErbOFRV0wH",
        "colab_type": "text"
      },
      "source": [
        "# Using Scikit-Learn\n",
        "## Imports\n"
      ]
    },
    {
      "cell_type": "code",
      "metadata": {
        "id": "a8f6_L9ZdX1D",
        "colab_type": "code",
        "colab": {}
      },
      "source": [
        "from sklearn.linear_model import LinearRegression"
      ],
      "execution_count": 0,
      "outputs": []
    },
    {
      "cell_type": "code",
      "metadata": {
        "id": "SAVtVyyAdkEA",
        "colab_type": "code",
        "colab": {}
      },
      "source": [
        "Reg = LinearRegression()\n",
        "Reg.fit(x,y)\n",
        "y_hat=Reg.predict(x)\n"
      ],
      "execution_count": 0,
      "outputs": []
    },
    {
      "cell_type": "code",
      "metadata": {
        "id": "q0p2IIR7ekzK",
        "colab_type": "code",
        "colab": {
          "base_uri": "https://localhost:8080/",
          "height": 69
        },
        "outputId": "2f9b0b30-9fbc-4a43-b591-dc0ca1c73181"
      },
      "source": [
        "print('Intercept is: ' + str(round(Reg.intercept_[0],2)))\n",
        "print('Coef is/are: ' + str(Reg.coef_))\n",
        "\n",
        "print('R2 is: ' + str(round(Reg.score(x,y),2))) \n"
      ],
      "execution_count": 80,
      "outputs": [
        {
          "output_type": "stream",
          "text": [
            "Intercept is: 2.98\n",
            "Coef is/are: [[1.90597588]]\n",
            "R2 is: 0.39\n"
          ],
          "name": "stdout"
        }
      ]
    },
    {
      "cell_type": "markdown",
      "metadata": {
        "id": "1hS1cL7gCYtl",
        "colab_type": "text"
      },
      "source": [
        "## Graphical representation"
      ]
    },
    {
      "cell_type": "code",
      "metadata": {
        "id": "XaO7RRI5ANkJ",
        "colab_type": "code",
        "colab": {
          "base_uri": "https://localhost:8080/",
          "height": 283
        },
        "outputId": "0344e516-f2e9-477f-8359-c11f7e74fb2c"
      },
      "source": [
        "plt.scatter(x,y, color='blue')\n",
        "plt.plot(x,y_hat, color='red')\n",
        "plt.xlabel('x') \n",
        "plt.ylabel('y')\n",
        "plt.show()"
      ],
      "execution_count": 82,
      "outputs": [
        {
          "output_type": "display_data",
          "data": {
            "image/png": "[encoded data removed]",
            "text/plain": [
              "<Figure size 432x288 with 1 Axes>"
            ]
          },
          "metadata": {
            "tags": []
          }
        }
      ]
    },
    {
      "cell_type": "code",
      "metadata": {
        "id": "_Ge2gLSlCO7w",
        "colab_type": "code",
        "colab": {}
      },
      "source": [
        ""
      ],
      "execution_count": 0,
      "outputs": []
    }
  ]
}