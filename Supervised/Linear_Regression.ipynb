{
  "nbformat": 4,
  "nbformat_minor": 0,
  "metadata": {
    "colab": {
      "name": "Linear Regression.ipynb",
      "version": "0.3.2",
      "provenance": [],
      "include_colab_link": true
    },
    "kernelspec": {
      "name": "python3",
      "display_name": "Python 3"
    }
  },
  "cells": [
    {
      "cell_type": "markdown",
      "metadata": {
        "id": "view-in-github",
        "colab_type": "text"
      },
      "source": [
        "<a href=\"https://colab.research.google.com/github/KelianF/MachineLearning/blob/master/Supervised/Linear_Regression.ipynb\" target=\"_parent\"><img src=\"https://colab.research.google.com/assets/colab-badge.svg\" alt=\"Open In Colab\"/></a>"
      ]
    },
    {
      "cell_type": "markdown",
      "metadata": {
        "id": "YpCK3YhYbXpt",
        "colab_type": "text"
      },
      "source": [
        "# Implementation of Linear Regression\n",
        "## Imports"
      ]
    },
    {
      "cell_type": "code",
      "metadata": {
        "id": "6Rcbqda9Uqip",
        "colab_type": "code",
        "colab": {}
      },
      "source": [
        "import numpy as np\n",
        "import matplotlib.pyplot as plt\n",
        "import seaborn as sns\n",
        "sns.set_style('darkgrid')"
      ],
      "execution_count": 0,
      "outputs": []
    },
    {
      "cell_type": "markdown",
      "metadata": {
        "id": "2avpSOXAbbpR",
        "colab_type": "text"
      },
      "source": [
        "## Set up data and display it"
      ]
    },
    {
      "cell_type": "code",
      "metadata": {
        "id": "1JmMOxP1VIau",
        "colab_type": "code",
        "colab": {
          "base_uri": "https://localhost:8080/",
          "height": 300
        },
        "outputId": "56e7390e-31b7-4db5-9451-06f7a8175d74"
      },
      "source": [
        "#Defining the x array. \n",
        "x=np.array(range(1,100)) \n",
        "\n",
        "\n",
        "#Defining the y array. \n",
        "y=10+2*x.ravel() \n",
        "y=y+np.random.normal(loc=0, scale=70, size=99)\n",
        "\n",
        "\n",
        "plt.scatter(x,y, color='blue')\n",
        "plt.xlabel('x') \n",
        "plt.ylabel('y')\n"
      ],
      "execution_count": 50,
      "outputs": [
        {
          "output_type": "execute_result",
          "data": {
            "text/plain": [
              "Text(0, 0.5, 'y')"
            ]
          },
          "metadata": {
            "tags": []
          },
          "execution_count": 50
        },
        {
          "output_type": "display_data",
          "data": {
            "image/png": "[encoded data removed]",
            "text/plain": [
              "<Figure size 432x288 with 1 Axes>"
            ]
          },
          "metadata": {
            "tags": []
          }
        }
      ]
    },
    {
      "cell_type": "markdown",
      "metadata": {
        "id": "vBErbOFRV0wH",
        "colab_type": "text"
      },
      "source": [
        "# Using Scikit-Learn\n",
        "## Imports\n"
      ]
    },
    {
      "cell_type": "code",
      "metadata": {
        "id": "a8f6_L9ZdX1D",
        "colab_type": "code",
        "colab": {}
      },
      "source": [
        "from sklearn.linear_model import LinearRegression"
      ],
      "execution_count": 0,
      "outputs": []
    },
    {
      "cell_type": "markdown",
      "metadata": {
        "id": "fVH9GF0XqV5v",
        "colab_type": "text"
      },
      "source": [
        "## Code"
      ]
    },
    {
      "cell_type": "code",
      "metadata": {
        "id": "SAVtVyyAdkEA",
        "colab_type": "code",
        "colab": {}
      },
      "source": [
        "Reg = LinearRegression()\n",
        "Reg.fit(x[:, np.newaxis],y[:,np.newaxis])\n",
        "y_hat=Reg.predict(x[:, np.newaxis])\n"
      ],
      "execution_count": 0,
      "outputs": []
    },
    {
      "cell_type": "code",
      "metadata": {
        "id": "q0p2IIR7ekzK",
        "colab_type": "code",
        "colab": {
          "base_uri": "https://localhost:8080/",
          "height": 69
        },
        "outputId": "acb3eca8-7ef0-4dd0-b7c0-6c827a81f062"
      },
      "source": [
        "print('Intercept is: ' + str(round(Reg.intercept_[0],3)))\n",
        "print('Coef is/are: ' + str(Reg.coef_))\n",
        "\n",
        "print('R2 is: ' + str(round(Reg.score(x[:, np.newaxis],y[:, np.newaxis]),2))) \n"
      ],
      "execution_count": 61,
      "outputs": [
        {
          "output_type": "stream",
          "text": [
            "Intercept is: 18.703\n",
            "Coef is/are: [[1.8352312]]\n",
            "R2 is: 0.35\n"
          ],
          "name": "stdout"
        }
      ]
    },
    {
      "cell_type": "markdown",
      "metadata": {
        "id": "1hS1cL7gCYtl",
        "colab_type": "text"
      },
      "source": [
        "## Graphical representation"
      ]
    },
    {
      "cell_type": "code",
      "metadata": {
        "id": "XaO7RRI5ANkJ",
        "colab_type": "code",
        "colab": {
          "base_uri": "https://localhost:8080/",
          "height": 283
        },
        "outputId": "2f3e0adf-de8a-4338-8934-6f1f16890189"
      },
      "source": [
        "plt.scatter(x,y, color='blue', label ='Actual data') \n",
        "plt.plot(x,y_hat, color='red', label ='Model')\n",
        "plt.plot((x[50],x[50]) ,(y[50], y_hat[50]), color='black')\n",
        "plt.xlabel('x') \n",
        "plt.ylabel('y')\n",
        "plt.legend()\n",
        "plt.show()"
      ],
      "execution_count": 82,
      "outputs": [
        {
          "output_type": "display_data",
          "data": {
            "image/png": "[encoded data removed]",
            "text/plain": [
              "<Figure size 432x288 with 1 Axes>"
            ]
          },
          "metadata": {
            "tags": []
          }
        }
      ]
    },
    {
      "cell_type": "markdown",
      "metadata": {
        "id": "fNpkBq_EJkYs",
        "colab_type": "text"
      },
      "source": [
        "This Graphical representation, shows the data and our model. \n",
        "\n",
        "I have added a line representing the difference between our model and the actual data, in econometrics, this is called ε. \n",
        "\n",
        "Hence, a regression is a minimisation problem of the sum of all the ε squared.\n",
        "\n",
        "\n",
        "Furthermore, the regression performed here is of the form Y on X, which explais why the ε is parallel to the Y axis. If the opposite was computed, the ε looked at for minimization would've been parallel to the X axis."
      ]
    },
    {
      "cell_type": "markdown",
      "metadata": {
        "id": "hQ0Z_jr6Oaan",
        "colab_type": "text"
      },
      "source": [
        "# Using Scipy\n",
        "\n",
        "## imports"
      ]
    },
    {
      "cell_type": "code",
      "metadata": {
        "id": "WyOhpm6_QLqO",
        "colab_type": "code",
        "colab": {}
      },
      "source": [
        "from scipy import stats"
      ],
      "execution_count": 0,
      "outputs": []
    },
    {
      "cell_type": "code",
      "metadata": {
        "id": "gIoSRwgUQPUE",
        "colab_type": "code",
        "colab": {}
      },
      "source": [
        "slope, intercept, r_value, p_value, std_err = stats.linregress(x,y)"
      ],
      "execution_count": 0,
      "outputs": []
    },
    {
      "cell_type": "code",
      "metadata": {
        "id": "NShbx8IXQT6f",
        "colab_type": "code",
        "colab": {
          "base_uri": "https://localhost:8080/",
          "height": 69
        },
        "outputId": "4e7c3968-f27e-4706-eede-0bb7a2d5b363"
      },
      "source": [
        "print('Intercept is: ' + str(round(intercept,3)))\n",
        "print('Coef is/are: ' + str(slope))\n",
        "\n",
        "print('R2 is: ' + str(round(r_value**2,2))) \n",
        "\n"
      ],
      "execution_count": 67,
      "outputs": [
        {
          "output_type": "stream",
          "text": [
            "Intercept is: 18.703\n",
            "Coef is/are: 1.835231197250304\n",
            "R2 is: 0.35\n"
          ],
          "name": "stdout"
        }
      ]
    },
    {
      "cell_type": "markdown",
      "metadata": {
        "id": "4ZFsY3hbUUW6",
        "colab_type": "text"
      },
      "source": [
        "# Using TensorFlow\n",
        "\n",
        "## Import"
      ]
    },
    {
      "cell_type": "code",
      "metadata": {
        "id": "EsXaQuhKhAOp",
        "colab_type": "code",
        "colab": {}
      },
      "source": [
        "import tensorflow as tf"
      ],
      "execution_count": 0,
      "outputs": []
    },
    {
      "cell_type": "markdown",
      "metadata": {
        "id": "TkjVhBvXqaTo",
        "colab_type": "text"
      },
      "source": [
        "## Code"
      ]
    },
    {
      "cell_type": "code",
      "metadata": {
        "id": "MhXK6PvmhazI",
        "colab_type": "code",
        "colab": {}
      },
      "source": [
        "# Defining the placeholder that we can input in the optimizer.\n",
        "\n",
        "X = tf.placeholder(\"float\") \n",
        "Y = tf.placeholder(\"float\") \n",
        "\n",
        "# Declaring two trainable TF variables for the weight and bias (initialized randomly), and two parameters: The learning rate and the epochs.\n",
        "\n",
        "W = tf.Variable(np.random.randn(), name = \"W\") \n",
        "b = tf.Variable(np.random.randn(), name = \"b\") \n",
        "\n",
        "learning_rate = 0.01\n",
        "training_epochs = 1000\n",
        "\n",
        "# Hypothesis \n",
        "y_pred = tf.add(tf.multiply(X, W), b) \n",
        "  \n",
        "# Mean Squared Error Cost Function \n",
        "cost = tf.reduce_sum(tf.pow(y_pred-Y, 2)) / (2 * len(x)) \n",
        "  \n",
        "# Gradient Descent Optimizer \n",
        "optimizer = tf.train.GradientDescentOptimizer(learning_rate).minimize(cost) \n",
        "  \n",
        "# Global Variables Initializer \n",
        "init = tf.global_variables_initializer() "
      ],
      "execution_count": 0,
      "outputs": []
    },
    {
      "cell_type": "code",
      "metadata": {
        "id": "mz2UooosjTvS",
        "colab_type": "code",
        "colab": {
          "base_uri": "https://localhost:8080/",
          "height": 367
        },
        "outputId": "3fb601f6-7826-484d-a131-b14bd4976593"
      },
      "source": [
        "# Starting the Tensorflow Session \n",
        "with tf.Session() as sess: \n",
        "      \n",
        "    # Initializing the Variables \n",
        "    sess.run(init) \n",
        "      \n",
        "    # Iterating through all the epochs \n",
        "    for epoch in range(training_epochs): \n",
        "          \n",
        "        # Feeding each data point into the optimizer using Feed Dictionary \n",
        "        for (_x, _y) in zip(x, y): \n",
        "            sess.run(optimizer, feed_dict = {X : _x, Y : _y}) \n",
        "\n",
        "        if (epoch + 1) % 50 == 0:  # Displaying the result after every 50 epochs \n",
        "            # Calculating the cost a every epoch \n",
        "            c = sess.run(cost, feed_dict = {X : x, Y : y}) \n",
        "            print(\"Epoch\", (epoch + 1), \": cost =\", c, \"W =\", sess.run(W), \"b =\", sess.run(b)) \n",
        "\n",
        "    training_cost = sess.run(cost, feed_dict ={X: x, Y: y})  # Storing necessary values to be used outside the Session \n",
        "    weight = sess.run(W) \n",
        "    bias = sess.run(b) \n",
        "\n",
        "# Calculating the predictions \n",
        "predictions = weight * x + bias \n",
        "print(\"Training cost =\", training_cost, \",Weight =\", weight, \",bias =\", bias, '\\n') "
      ],
      "execution_count": 75,
      "outputs": [
        {
          "output_type": "stream",
          "text": [
            "Epoch 50 : cost = 2657.519 W = 2.3568723 b = 0.64022034\n",
            "Epoch 100 : cost = 2657.3528 W = 2.3482263 b = 1.4960958\n",
            "Epoch 150 : cost = 2657.4138 W = 2.3401942 b = 2.2911782\n",
            "Epoch 200 : cost = 2657.6565 W = 2.332733 b = 3.0297873\n",
            "Epoch 250 : cost = 2658.0427 W = 2.3258014 b = 3.7159371\n",
            "Epoch 300 : cost = 2658.5396 W = 2.3193622 b = 4.3533607\n",
            "Epoch 350 : cost = 2659.1206 W = 2.3133802 b = 4.9455113\n",
            "Epoch 400 : cost = 2659.7637 W = 2.307823 b = 5.4956136\n",
            "Epoch 450 : cost = 2660.4497 W = 2.3026607 b = 6.006618\n",
            "Epoch 500 : cost = 2661.164 W = 2.2978652 b = 6.481338\n",
            "Epoch 550 : cost = 2661.8945 W = 2.29341 b = 6.9223437\n",
            "Epoch 600 : cost = 2662.6294 W = 2.2892714 b = 7.3320236\n",
            "Epoch 650 : cost = 2663.362 W = 2.2854269 b = 7.7126007\n",
            "Epoch 700 : cost = 2664.085 W = 2.2818553 b = 8.066138\n",
            "Epoch 750 : cost = 2664.7932 W = 2.2785375 b = 8.394556\n",
            "Epoch 800 : cost = 2665.483 W = 2.275455 b = 8.699714\n",
            "Epoch 850 : cost = 2666.1511 W = 2.2725918 b = 8.983114\n",
            "Epoch 900 : cost = 2666.7954 W = 2.269932 b = 9.246411\n",
            "Epoch 950 : cost = 2667.414 W = 2.2674606 b = 9.491051\n",
            "Epoch 1000 : cost = 2668.0076 W = 2.2651656 b = 9.718246\n"
          ],
          "name": "stdout"
        }
      ]
    },
    {
      "cell_type": "markdown",
      "metadata": {
        "id": "XGpRe10Tlt1G",
        "colab_type": "text"
      },
      "source": [
        "In this case, the method to solve the linear regression minimization problem is to perform a gradiant descent, the reason it has not been performed that way in the previous two cases is that linear regression has a closed formula (More explanation below), which is quite rare in optimization problem.\n",
        "\n",
        "Hence, the TensorFlow solution is more general for optimization problems."
      ]
    },
    {
      "cell_type": "markdown",
      "metadata": {
        "id": "CblhM-w7qdRe",
        "colab_type": "text"
      },
      "source": [
        "## Graphical representation"
      ]
    },
    {
      "cell_type": "code",
      "metadata": {
        "id": "IqfoViJvmHre",
        "colab_type": "code",
        "colab": {
          "base_uri": "https://localhost:8080/",
          "height": 286
        },
        "outputId": "d2771814-30dd-4335-8c1b-0da131ff3774"
      },
      "source": [
        "plt.plot(x, y, 'ro', color='blue') \n",
        "plt.plot(x, predictions, color='red')"
      ],
      "execution_count": 93,
      "outputs": [
        {
          "output_type": "execute_result",
          "data": {
            "text/plain": [
              "[<matplotlib.lines.Line2D at 0x7f93ca5c9a58>]"
            ]
          },
          "metadata": {
            "tags": []
          },
          "execution_count": 93
        },
        {
          "output_type": "display_data",
          "data": {
            "image/png": "[encoded data removed]",
            "text/plain": [
              "<Figure size 432x288 with 1 Axes>"
            ]
          },
          "metadata": {
            "tags": []
          }
        }
      ]
    },
    {
      "cell_type": "markdown",
      "metadata": {
        "id": "0QfdtCrKnDee",
        "colab_type": "text"
      },
      "source": [
        "# Linear Regression from scratch and explanation"
      ]
    },
    {
      "cell_type": "code",
      "metadata": {
        "id": "hLXI8z02r4Zs",
        "colab_type": "code",
        "colab": {}
      },
      "source": [
        ""
      ],
      "execution_count": 0,
      "outputs": []
    }
  ]
}