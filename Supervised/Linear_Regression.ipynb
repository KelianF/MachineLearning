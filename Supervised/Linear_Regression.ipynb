{
  "nbformat": 4,
  "nbformat_minor": 0,
  "metadata": {
    "colab": {
      "name": "Linear Regression.ipynb",
      "version": "0.3.2",
      "provenance": [],
      "include_colab_link": true
    },
    "kernelspec": {
      "name": "python3",
      "display_name": "Python 3"
    }
  },
  "cells": [
    {
      "cell_type": "markdown",
      "metadata": {
        "id": "view-in-github",
        "colab_type": "text"
      },
      "source": [
        "<a href=\"https://colab.research.google.com/github/KelianF/MachineLearning/blob/master/Supervised/Linear_Regression.ipynb\" target=\"_parent\"><img src=\"https://colab.research.google.com/assets/colab-badge.svg\" alt=\"Open In Colab\"/></a>"
      ]
    },
    {
      "cell_type": "markdown",
      "metadata": {
        "id": "YpCK3YhYbXpt",
        "colab_type": "text"
      },
      "source": [
        "# Implementation of Linear Regression\n",
        "## Imports"
      ]
    },
    {
      "cell_type": "code",
      "metadata": {
        "id": "6Rcbqda9Uqip",
        "colab_type": "code",
        "colab": {}
      },
      "source": [
        "import numpy as np\n",
        "import matplotlib.pyplot as plt\n",
        "import seaborn as sns\n",
        "sns.set_style('darkgrid')"
      ],
      "execution_count": 0,
      "outputs": []
    },
    {
      "cell_type": "markdown",
      "metadata": {
        "id": "2avpSOXAbbpR",
        "colab_type": "text"
      },
      "source": [
        "## Set up data and display it"
      ]
    },
    {
      "cell_type": "code",
      "metadata": {
        "id": "1JmMOxP1VIau",
        "colab_type": "code",
        "colab": {
          "base_uri": "https://localhost:8080/",
          "height": 300
        },
        "outputId": "6e104bdf-fd92-4571-949e-c1ec4388f2f6"
      },
      "source": [
        "#Defining the x array. \n",
        "x=np.array(range(1,100)) \n",
        "x=x[:, np.newaxis]\n",
        "\n",
        "#Defining the y array. \n",
        "y=10+2*x.ravel() \n",
        "y=y+np.random.normal(loc=0, scale=70, size=99)\n",
        "y=y[:,np.newaxis]\n",
        "\n",
        "plt.scatter(x,y, color='blue')\n",
        "plt.xlabel('x') \n",
        "plt.ylabel('y')\n"
      ],
      "execution_count": 29,
      "outputs": [
        {
          "output_type": "execute_result",
          "data": {
            "text/plain": [
              "Text(0, 0.5, 'y')"
            ]
          },
          "metadata": {
            "tags": []
          },
          "execution_count": 29
        },
        {
          "output_type": "display_data",
          "data": {
            "image/png": "[encoded data removed]",
            "text/plain": [
              "<Figure size 432x288 with 1 Axes>"
            ]
          },
          "metadata": {
            "tags": []
          }
        }
      ]
    },
    {
      "cell_type": "markdown",
      "metadata": {
        "id": "vBErbOFRV0wH",
        "colab_type": "text"
      },
      "source": [
        "# Using Scikit-Learn\n",
        "## Imports\n"
      ]
    },
    {
      "cell_type": "code",
      "metadata": {
        "id": "a8f6_L9ZdX1D",
        "colab_type": "code",
        "colab": {}
      },
      "source": [
        "from sklearn.linear_model import LinearRegression"
      ],
      "execution_count": 0,
      "outputs": []
    },
    {
      "cell_type": "code",
      "metadata": {
        "id": "SAVtVyyAdkEA",
        "colab_type": "code",
        "colab": {}
      },
      "source": [
        "Reg = LinearRegression()\n",
        "Reg.fit(x,y)\n",
        "y_hat=Reg.predict(x)\n"
      ],
      "execution_count": 0,
      "outputs": []
    },
    {
      "cell_type": "code",
      "metadata": {
        "id": "q0p2IIR7ekzK",
        "colab_type": "code",
        "colab": {
          "base_uri": "https://localhost:8080/",
          "height": 69
        },
        "outputId": "e8a8e9d4-02fc-4b82-c023-d901bcc91635"
      },
      "source": [
        "print('Intercept is: ' + str(round(Reg.intercept_[0],2)))\n",
        "print('Coef is/are: ' + str(Reg.coef_))\n",
        "\n",
        "print('R2 is: ' + str(round(Reg.score(x,y),2))) \n"
      ],
      "execution_count": 32,
      "outputs": [
        {
          "output_type": "stream",
          "text": [
            "Intercept is: 33.94\n",
            "Coef is/are: [[1.79235056]]\n",
            "R2 is: 0.36\n"
          ],
          "name": "stdout"
        }
      ]
    },
    {
      "cell_type": "markdown",
      "metadata": {
        "id": "1hS1cL7gCYtl",
        "colab_type": "text"
      },
      "source": [
        "## Graphical representation"
      ]
    },
    {
      "cell_type": "code",
      "metadata": {
        "id": "XaO7RRI5ANkJ",
        "colab_type": "code",
        "colab": {
          "base_uri": "https://localhost:8080/",
          "height": 283
        },
        "outputId": "d5396500-4c7d-435e-c9a7-60afe4f7c2b5"
      },
      "source": [
        "plt.scatter(x,y, color='blue')\n",
        "plt.plot(x,y_hat, color='red')\n",
        "plt.plot((x[50],x[50]) ,(y[50], y_hat[50]), color='black')\n",
        "plt.xlabel('x') \n",
        "plt.ylabel('y')\n",
        "plt.show()"
      ],
      "execution_count": 34,
      "outputs": [
        {
          "output_type": "display_data",
          "data": {
            "image/png": "[encoded data removed]",
            "text/plain": [
              "<Figure size 432x288 with 1 Axes>"
            ]
          },
          "metadata": {
            "tags": []
          }
        }
      ]
    },
    {
      "cell_type": "markdown",
      "metadata": {
        "id": "fNpkBq_EJkYs",
        "colab_type": "text"
      },
      "source": [
        "This Graphical representation, shows the data and our model. \n",
        "\n",
        "I have added a line representing the difference between our model and the actual data, in econometrics, this is called ε. \n",
        "\n",
        "Hence, a regression is a minimisation problem of the sum of all the ε squared.\n",
        "\n",
        "\n",
        "Furthermore, the regression performed here is of the form Y on X, which explais why the ε is parallel to the Y axis. If the opposite was computed, the ε looked at for minimization would've been parallel to the X axis."
      ]
    },
    {
      "cell_type": "code",
      "metadata": {
        "id": "hQ0Z_jr6Oaan",
        "colab_type": "code",
        "colab": {}
      },
      "source": [
        ""
      ],
      "execution_count": 0,
      "outputs": []
    }
  ]
}