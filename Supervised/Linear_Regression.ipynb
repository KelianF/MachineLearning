{
  "nbformat": 4,
  "nbformat_minor": 0,
  "metadata": {
    "colab": {
      "name": "Linear Regression.ipynb",
      "version": "0.3.2",
      "provenance": [],
      "collapsed_sections": [],
      "include_colab_link": true
    },
    "kernelspec": {
      "name": "python3",
      "display_name": "Python 3"
    }
  },
  "cells": [
    {
      "cell_type": "markdown",
      "metadata": {
        "id": "view-in-github",
        "colab_type": "text"
      },
      "source": [
        "<a href=\"https://colab.research.google.com/github/KelianF/MachineLearning/blob/master/Supervised/Linear_Regression.ipynb\" target=\"_parent\"><img src=\"https://colab.research.google.com/assets/colab-badge.svg\" alt=\"Open In Colab\"/></a>"
      ]
    },
    {
      "cell_type": "markdown",
      "metadata": {
        "id": "YpCK3YhYbXpt",
        "colab_type": "text"
      },
      "source": [
        "# Implementation of Linear Regression\n",
        "## Imports"
      ]
    },
    {
      "cell_type": "code",
      "metadata": {
        "id": "6Rcbqda9Uqip",
        "colab_type": "code",
        "colab": {}
      },
      "source": [
        "import numpy as np\n",
        "import matplotlib.pyplot as plt\n",
        "import seaborn as sns\n",
        "sns.set_style('darkgrid')"
      ],
      "execution_count": 0,
      "outputs": []
    },
    {
      "cell_type": "markdown",
      "metadata": {
        "id": "2avpSOXAbbpR",
        "colab_type": "text"
      },
      "source": [
        "## Set up data and display it"
      ]
    },
    {
      "cell_type": "code",
      "metadata": {
        "id": "1JmMOxP1VIau",
        "colab_type": "code",
        "outputId": "ad293bf8-301f-4886-bc91-53c250e0960c",
        "colab": {
          "base_uri": "https://localhost:8080/",
          "height": 300
        }
      },
      "source": [
        "#Defining the x array. \n",
        "x=np.array(range(1,100)) \n",
        "\n",
        "\n",
        "#Defining the y array. \n",
        "y=10+2*x.ravel() \n",
        "y=y+np.random.normal(loc=0, scale=70, size=99)\n",
        "\n",
        "\n",
        "plt.scatter(x,y, color='blue')\n",
        "plt.xlabel('x') \n",
        "plt.ylabel('y')\n"
      ],
      "execution_count": 3,
      "outputs": [
        {
          "output_type": "execute_result",
          "data": {
            "text/plain": [
              "Text(0, 0.5, 'y')"
            ]
          },
          "metadata": {
            "tags": []
          },
          "execution_count": 3
        },
        {
          "output_type": "display_data",
          "data": {
            "image/png": "[encoded data removed]",
            "text/plain": [
              "<Figure size 432x288 with 1 Axes>"
            ]
          },
          "metadata": {
            "tags": []
          }
        }
      ]
    },
    {
      "cell_type": "markdown",
      "metadata": {
        "id": "vBErbOFRV0wH",
        "colab_type": "text"
      },
      "source": [
        "# Using Scikit-Learn\n",
        "## Imports\n"
      ]
    },
    {
      "cell_type": "code",
      "metadata": {
        "id": "a8f6_L9ZdX1D",
        "colab_type": "code",
        "colab": {}
      },
      "source": [
        "from sklearn.linear_model import LinearRegression"
      ],
      "execution_count": 0,
      "outputs": []
    },
    {
      "cell_type": "markdown",
      "metadata": {
        "id": "fVH9GF0XqV5v",
        "colab_type": "text"
      },
      "source": [
        "## Code"
      ]
    },
    {
      "cell_type": "code",
      "metadata": {
        "id": "SAVtVyyAdkEA",
        "colab_type": "code",
        "colab": {}
      },
      "source": [
        "Reg = LinearRegression()\n",
        "Reg.fit(x[:, np.newaxis],y[:,np.newaxis])\n",
        "y_hat=Reg.predict(x[:, np.newaxis])\n"
      ],
      "execution_count": 0,
      "outputs": []
    },
    {
      "cell_type": "code",
      "metadata": {
        "id": "q0p2IIR7ekzK",
        "colab_type": "code",
        "outputId": "32ec6644-176f-4cca-c4e9-8f077afd052e",
        "colab": {
          "base_uri": "https://localhost:8080/",
          "height": 69
        }
      },
      "source": [
        "print('Intercept is: ' + str(round(Reg.intercept_[0],3)))\n",
        "print('Coef is/are: ' + str(Reg.coef_))\n",
        "\n",
        "print('R2 is: ' + str(round(Reg.score(x[:, np.newaxis],y[:, np.newaxis]),2))) \n"
      ],
      "execution_count": 6,
      "outputs": [
        {
          "output_type": "stream",
          "text": [
            "Intercept is: 32.136\n",
            "Coef is/are: [[1.51056088]]\n",
            "R2 is: 0.29\n"
          ],
          "name": "stdout"
        }
      ]
    },
    {
      "cell_type": "markdown",
      "metadata": {
        "id": "1hS1cL7gCYtl",
        "colab_type": "text"
      },
      "source": [
        "## Graphical representation"
      ]
    },
    {
      "cell_type": "code",
      "metadata": {
        "id": "XaO7RRI5ANkJ",
        "colab_type": "code",
        "outputId": "3655c6b6-1827-4bc1-d34b-f2ab76c3d5ab",
        "colab": {
          "base_uri": "https://localhost:8080/",
          "height": 283
        }
      },
      "source": [
        "plt.scatter(x,y, color='blue', label ='Actual data') \n",
        "plt.plot(x,y_hat, color='red', label ='Model')\n",
        "plt.plot((x[50],x[50]) ,(y[50], y_hat[50]), color='black')\n",
        "plt.xlabel('x') \n",
        "plt.ylabel('y')\n",
        "plt.legend()\n",
        "plt.show()"
      ],
      "execution_count": 7,
      "outputs": [
        {
          "output_type": "display_data",
          "data": {
            "image/png": "[encoded data removed]",
            "text/plain": [
              "<Figure size 432x288 with 1 Axes>"
            ]
          },
          "metadata": {
            "tags": []
          }
        }
      ]
    },
    {
      "cell_type": "markdown",
      "metadata": {
        "id": "fNpkBq_EJkYs",
        "colab_type": "text"
      },
      "source": [
        "This Graphical representation, shows the data and our model. \n",
        "\n",
        "I have added a line representing the difference between our model and the actual data, in econometrics, this is called ε. \n",
        "\n",
        "Hence, a regression is a minimisation problem of the sum of all the ε squared.\n",
        "\n",
        "\n",
        "Furthermore, the regression performed here is of the form Y on X, which explais why the ε is parallel to the Y axis. If the opposite was computed, the ε looked at for minimization would've been parallel to the X axis."
      ]
    },
    {
      "cell_type": "markdown",
      "metadata": {
        "id": "hQ0Z_jr6Oaan",
        "colab_type": "text"
      },
      "source": [
        "# Using Scipy\n",
        "\n",
        "## imports"
      ]
    },
    {
      "cell_type": "code",
      "metadata": {
        "id": "WyOhpm6_QLqO",
        "colab_type": "code",
        "colab": {}
      },
      "source": [
        "from scipy import stats"
      ],
      "execution_count": 0,
      "outputs": []
    },
    {
      "cell_type": "code",
      "metadata": {
        "id": "gIoSRwgUQPUE",
        "colab_type": "code",
        "colab": {}
      },
      "source": [
        "slope, intercept, r_value, p_value, std_err = stats.linregress(x,y)"
      ],
      "execution_count": 0,
      "outputs": []
    },
    {
      "cell_type": "code",
      "metadata": {
        "id": "NShbx8IXQT6f",
        "colab_type": "code",
        "outputId": "cc07b89b-29da-4d63-a07d-1e65a7aaba44",
        "colab": {
          "base_uri": "https://localhost:8080/",
          "height": 69
        }
      },
      "source": [
        "print('Intercept is: ' + str(round(intercept,3)))\n",
        "print('Coef is/are: ' + str(slope))\n",
        "\n",
        "print('R2 is: ' + str(round(r_value**2,2))) \n",
        "\n"
      ],
      "execution_count": 10,
      "outputs": [
        {
          "output_type": "stream",
          "text": [
            "Intercept is: 32.136\n",
            "Coef is/are: 1.510560876563148\n",
            "R2 is: 0.29\n"
          ],
          "name": "stdout"
        }
      ]
    },
    {
      "cell_type": "markdown",
      "metadata": {
        "id": "4ZFsY3hbUUW6",
        "colab_type": "text"
      },
      "source": [
        "# Using TensorFlow\n",
        "\n",
        "## Import"
      ]
    },
    {
      "cell_type": "code",
      "metadata": {
        "id": "EsXaQuhKhAOp",
        "colab_type": "code",
        "colab": {}
      },
      "source": [
        "import tensorflow as tf"
      ],
      "execution_count": 0,
      "outputs": []
    },
    {
      "cell_type": "markdown",
      "metadata": {
        "id": "TkjVhBvXqaTo",
        "colab_type": "text"
      },
      "source": [
        "## Code"
      ]
    },
    {
      "cell_type": "code",
      "metadata": {
        "id": "MhXK6PvmhazI",
        "colab_type": "code",
        "outputId": "a9aeece0-09af-4542-e4a3-e900e5428ccc",
        "colab": {
          "base_uri": "https://localhost:8080/",
          "height": 107
        }
      },
      "source": [
        "# Defining the placeholder that we can input in the optimizer.\n",
        "\n",
        "X = tf.placeholder(\"float\") \n",
        "Y = tf.placeholder(\"float\") \n",
        "\n",
        "# Declaring two trainable TF variables for the weight and bias (initialized randomly), and two parameters: The learning rate and the epochs.\n",
        "\n",
        "W = tf.Variable(np.random.randn(), name = \"W\") \n",
        "b = tf.Variable(np.random.randn(), name = \"b\") \n",
        "\n",
        "learning_rate = 0.01\n",
        "training_epochs = 1000\n",
        "\n",
        "# Hypothesis \n",
        "y_pred = tf.add(tf.multiply(X, W), b) \n",
        "  \n",
        "# Mean Squared Error Cost Function \n",
        "cost = tf.reduce_sum(tf.pow(y_pred-Y, 2)) / (2 * len(x)) \n",
        "  \n",
        "# Gradient Descent Optimizer \n",
        "optimizer = tf.train.GradientDescentOptimizer(learning_rate).minimize(cost) \n",
        "  \n",
        "# Global Variables Initializer \n",
        "init = tf.global_variables_initializer() "
      ],
      "execution_count": 0,
      "outputs": [
        {
          "output_type": "stream",
          "text": [
            "WARNING: Logging before flag parsing goes to stderr.\n",
            "W0708 08:48:39.933254 140016116971392 deprecation.py:323] From /usr/local/lib/python3.6/dist-packages/tensorflow/python/ops/math_grad.py:1205: add_dispatch_support.<locals>.wrapper (from tensorflow.python.ops.array_ops) is deprecated and will be removed in a future version.\n",
            "Instructions for updating:\n",
            "Use tf.where in 2.0, which has the same broadcast rule as np.where\n"
          ],
          "name": "stderr"
        }
      ]
    },
    {
      "cell_type": "code",
      "metadata": {
        "id": "mz2UooosjTvS",
        "colab_type": "code",
        "outputId": "39d06ef4-1530-4e39-9ad4-f87b3a29c429",
        "colab": {
          "base_uri": "https://localhost:8080/",
          "height": 402
        }
      },
      "source": [
        "# Starting the Tensorflow Session \n",
        "with tf.Session() as sess: \n",
        "      \n",
        "    # Initializing the Variables \n",
        "    sess.run(init) \n",
        "      \n",
        "    # Iterating through all the epochs \n",
        "    for epoch in range(training_epochs): \n",
        "          \n",
        "        # Feeding each data point into the optimizer using Feed Dictionary \n",
        "        for (_x, _y) in zip(x, y): \n",
        "            sess.run(optimizer, feed_dict = {X : _x, Y : _y}) \n",
        "\n",
        "        if (epoch + 1) % 50 == 0:  # Displaying the result after every 50 epochs \n",
        "            # Calculating the cost a every epoch \n",
        "            c = sess.run(cost, feed_dict = {X : x, Y : y}) \n",
        "            print(\"Epoch\", (epoch + 1), \": cost =\", c, \"W =\", sess.run(W), \"b =\", sess.run(b)) \n",
        "\n",
        "    training_cost = sess.run(cost, feed_dict ={X: x, Y: y})  # Storing necessary values to be used outside the Session \n",
        "    weight = sess.run(W) \n",
        "    bias = sess.run(b) \n",
        "\n",
        "# Calculating the predictions \n",
        "predictions = weight * x + bias \n",
        "print(\"Training cost =\", training_cost, \",Weight =\", weight, \",bias =\", bias, '\\n') "
      ],
      "execution_count": 0,
      "outputs": [
        {
          "output_type": "stream",
          "text": [
            "Epoch 50 : cost = 2098.5574 W = 1.9093521 b = -0.4990548\n",
            "Epoch 100 : cost = 2097.3196 W = 1.9061018 b = -0.17732194\n",
            "Epoch 150 : cost = 2096.2 W = 1.9030826 b = 0.12155943\n",
            "Epoch 200 : cost = 2095.1868 W = 1.9002777 b = 0.39921185\n",
            "Epoch 250 : cost = 2094.2678 W = 1.897672 b = 0.6571437\n",
            "Epoch 300 : cost = 2093.4336 W = 1.8952515 b = 0.89675426\n",
            "Epoch 350 : cost = 2092.676 W = 1.8930029 b = 1.1193463\n",
            "Epoch 400 : cost = 2091.9863 W = 1.890914 b = 1.3261288\n",
            "Epoch 450 : cost = 2091.3586 W = 1.8889734 b = 1.5182256\n",
            "Epoch 500 : cost = 2090.786 W = 1.8871706 b = 1.6966811\n",
            "Epoch 550 : cost = 2090.2637 W = 1.8854959 b = 1.862456\n",
            "Epoch 600 : cost = 2089.7861 W = 1.8839402 b = 2.0164576\n",
            "Epoch 650 : cost = 2089.3499 W = 1.8824949 b = 2.1595242\n",
            "Epoch 700 : cost = 2088.9504 W = 1.8811523 b = 2.2924297\n",
            "Epoch 750 : cost = 2088.5845 W = 1.8799051 b = 2.415885\n",
            "Epoch 800 : cost = 2088.249 W = 1.8787465 b = 2.5305793\n",
            "Epoch 850 : cost = 2087.9414 W = 1.8776702 b = 2.6371162\n",
            "Epoch 900 : cost = 2087.6592 W = 1.8766702 b = 2.7361083\n",
            "Epoch 950 : cost = 2087.3994 W = 1.8757414 b = 2.8280485\n",
            "Epoch 1000 : cost = 2087.161 W = 1.8748784 b = 2.9134765\n",
            "Training cost = 2087.161 ,Weight = 1.8748784 ,bias = 2.9134765 \n",
            "\n"
          ],
          "name": "stdout"
        }
      ]
    },
    {
      "cell_type": "markdown",
      "metadata": {
        "id": "XGpRe10Tlt1G",
        "colab_type": "text"
      },
      "source": [
        "In this case, the method to solve the linear regression minimization problem is to perform a gradiant descent, the reason it has not been performed that way in the previous two cases is that linear regression has a closed formula (More explanation below), which is quite rare in optimization problem.\n",
        "\n",
        "Hence, the TensorFlow solution is more general for optimization problems."
      ]
    },
    {
      "cell_type": "markdown",
      "metadata": {
        "id": "CblhM-w7qdRe",
        "colab_type": "text"
      },
      "source": [
        "## Graphical representation"
      ]
    },
    {
      "cell_type": "code",
      "metadata": {
        "id": "IqfoViJvmHre",
        "colab_type": "code",
        "outputId": "0e382d55-2642-4ca1-8cee-b6755e64a5c1",
        "colab": {
          "base_uri": "https://localhost:8080/",
          "height": 435
        }
      },
      "source": [
        "plt.plot(x, y, 'ro', color='blue') \n",
        "plt.plot(x, predictions, color='red')"
      ],
      "execution_count": 11,
      "outputs": [
        {
          "output_type": "error",
          "ename": "NameError",
          "evalue": "ignored",
          "traceback": [
            "\u001b[0;31m---------------------------------------------------------------------------\u001b[0m",
            "\u001b[0;31mNameError\u001b[0m                                 Traceback (most recent call last)",
            "\u001b[0;32m<ipython-input-11-d777a6579455>\u001b[0m in \u001b[0;36m<module>\u001b[0;34m()\u001b[0m\n\u001b[1;32m      1\u001b[0m \u001b[0mplt\u001b[0m\u001b[0;34m.\u001b[0m\u001b[0mplot\u001b[0m\u001b[0;34m(\u001b[0m\u001b[0mx\u001b[0m\u001b[0;34m,\u001b[0m \u001b[0my\u001b[0m\u001b[0;34m,\u001b[0m \u001b[0;34m'ro'\u001b[0m\u001b[0;34m,\u001b[0m \u001b[0mcolor\u001b[0m\u001b[0;34m=\u001b[0m\u001b[0;34m'blue'\u001b[0m\u001b[0;34m)\u001b[0m\u001b[0;34m\u001b[0m\u001b[0;34m\u001b[0m\u001b[0m\n\u001b[0;32m----> 2\u001b[0;31m \u001b[0mplt\u001b[0m\u001b[0;34m.\u001b[0m\u001b[0mplot\u001b[0m\u001b[0;34m(\u001b[0m\u001b[0mx\u001b[0m\u001b[0;34m,\u001b[0m \u001b[0mpredictions\u001b[0m\u001b[0;34m,\u001b[0m \u001b[0mcolor\u001b[0m\u001b[0;34m=\u001b[0m\u001b[0;34m'red'\u001b[0m\u001b[0;34m)\u001b[0m\u001b[0;34m\u001b[0m\u001b[0;34m\u001b[0m\u001b[0m\n\u001b[0m",
            "\u001b[0;31mNameError\u001b[0m: name 'predictions' is not defined"
          ]
        },
        {
          "output_type": "display_data",
          "data": {
            "image/png": "[encoded data removed]",
            "text/plain": [
              "<Figure size 432x288 with 1 Axes>"
            ]
          },
          "metadata": {
            "tags": []
          }
        }
      ]
    },
    {
      "cell_type": "markdown",
      "metadata": {
        "id": "0QfdtCrKnDee",
        "colab_type": "text"
      },
      "source": [
        "# Linear Regression from scratch and explanation"
      ]
    },
    {
      "cell_type": "markdown",
      "metadata": {
        "id": "hLXI8z02r4Zs",
        "colab_type": "text"
      },
      "source": [
        "The OLS Equation looks as follow:\n",
        "\\begin{equation}\n",
        "y = X\\hat{β} + ϵ\\end{equation}\n",
        "\n",
        "In this equation:\n",
        "β is the vector of weight of the X independent variables, ϵ represent the error vector.\n",
        "\n",
        "Hence, the Sum of Squred Residual, can be written as follow:\n",
        "\\begin{equation}\n",
        "e = y − X\\hat{β}\\end{equation}\n",
        "\n",
        "\n",
        "Which gives us:\n",
        "\\begin{equation}\n",
        "e'e = (y − X\\hat{β})'(y − X\\hat{β})\\end{equation}\n",
        "       \\begin{equation}\n",
        "    = y'y - \\hat{β}'X'y - y'X\\hat{β} + β'X'Xβ\\end{equation}\n",
        "    \\begin{equation}\n",
        "    = y'y - 2\\hat{β}'X'y + \\hat{β}'X'X\\hat{β}\\end{equation}\n",
        "    \n",
        "\n",
        "Using the differential method to find the minimum:\n",
        "\n",
        "\\begin{equation}\n",
        "\\frac{∂e'e}{\\hat{β}} = 2X'y + 2X'X\\hat{β} = 0\n",
        "\\end{equation}\n",
        "   \n",
        "To check if it is indeed a minimum, it is possible to take the second derivative with respect to β, which would give us: 2X'X. Hence, so long as X has full rank, this is a positive definite matrix, and thus a minimum.\n",
        "\\begin{equation}\n",
        "(X'X)\\hat{β} = X'y\n",
        "\\end{equation}\\begin{equation}\n",
        "(X'X)^{-1}(X'X)\\hat{β} = (X'X)^{-1}X'y\n",
        "\\end{equation}\n",
        "By definition: \\begin{equation} (X'X)^{-1}(X'X) = I \\end{equation}\n",
        "\n",
        "Giving us:\n",
        "\\begin{equation}\n",
        "I \\hat{β}  = (X'X)^{-1}X'y\n",
        "\\end{equation} \n",
        "\\begin{equation}\n",
        "\\hat{β}  = (X'X)^{-1}X'y \\end{equation}\n",
        "\n",
        "\n",
        "       \n",
        "       \n",
        "       \n",
        "       "
      ]
    },
    {
      "cell_type": "code",
      "metadata": {
        "id": "3bhluuHEvTaN",
        "colab_type": "code",
        "colab": {}
      },
      "source": [
        ""
      ],
      "execution_count": 0,
      "outputs": []
    },
    {
      "cell_type": "code",
      "metadata": {
        "id": "0J7_Iix2xwyf",
        "colab_type": "code",
        "outputId": "12de4f7c-d11b-4e98-9911-8a0f6371a090",
        "colab": {
          "base_uri": "https://localhost:8080/",
          "height": 52
        }
      },
      "source": [
        "# Let's first define X using the previous x and adding a first column of ones:\n",
        "\n",
        "X = np.hstack((np.ones((len(x),1)) ,x[:, np.newaxis]))\n",
        "\n",
        "# Now we can simply use the previously derived formula:\n",
        "Intercept, Slope = np.linalg.inv(X.T @ X) @ (X.T @ y)\n",
        "\n",
        "print('Intercept is: ' + str(round(Intercept,3)))\n",
        "print('Coef is: ' + str(Slope))"
      ],
      "execution_count": 15,
      "outputs": [
        {
          "output_type": "stream",
          "text": [
            "Intercept is: 32.136\n",
            "Coef is: 1.51056087656315\n"
          ],
          "name": "stdout"
        }
      ]
    },
    {
      "cell_type": "markdown",
      "metadata": {
        "id": "jPxweEywzIXR",
        "colab_type": "text"
      },
      "source": [
        "This, Should, gives us the same values as previously obtained with Sklearn, Scipy and TensorFlow.\n",
        "However, it should be noted that complexity is an important parameter in any algorithm, in this case, computing the inverse of X'.X is about O(n2.4) to O(n3) depending on the implementation.\n",
        "\n",
        "Hence, it can be interesting to use a training model to find the solution instead of a closed formula. Which introduces the next step: Gradient Descent\n"
      ]
    },
    {
      "cell_type": "code",
      "metadata": {
        "id": "gs5HOiHMz9HZ",
        "colab_type": "code",
        "colab": {
          "base_uri": "https://localhost:8080/",
          "height": 87
        },
        "outputId": "99fe16e9-79f6-478e-f6d9-34462d131e5f"
      },
      "source": [
        "alpha = 0.1  # Which will be the learning rate\n",
        "NbrIter = 1000  # Representing the number of iteration\n",
        "m = 100\n",
        "\n",
        "theta = np.random.randn(2,1)\n",
        "\n",
        "for iter in range(NbrIter):\n",
        "    grad = 2/m * ((X @ theta).T - y) @ X\n",
        "    theta = theta - alpha * grad.T"
      ],
      "execution_count": 66,
      "outputs": [
        {
          "output_type": "stream",
          "text": [
            "/usr/local/lib/python3.6/dist-packages/ipykernel_launcher.py:8: RuntimeWarning: overflow encountered in matmul\n",
            "  \n",
            "/usr/local/lib/python3.6/dist-packages/ipykernel_launcher.py:9: RuntimeWarning: invalid value encountered in subtract\n",
            "  if __name__ == '__main__':\n"
          ],
          "name": "stderr"
        }
      ]
    },
    {
      "cell_type": "code",
      "metadata": {
        "id": "c0s9MMN2y-MV",
        "colab_type": "code",
        "colab": {}
      },
      "source": [
        ""
      ],
      "execution_count": 0,
      "outputs": []
    }
  ]
}