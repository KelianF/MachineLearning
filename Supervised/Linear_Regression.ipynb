{
  "nbformat": 4,
  "nbformat_minor": 0,
  "metadata": {
    "colab": {
      "name": "Linear Regression.ipynb",
      "version": "0.3.2",
      "provenance": [],
      "collapsed_sections": [],
      "include_colab_link": true
    },
    "kernelspec": {
      "name": "python3",
      "display_name": "Python 3"
    }
  },
  "cells": [
    {
      "cell_type": "markdown",
      "metadata": {
        "id": "view-in-github",
        "colab_type": "text"
      },
      "source": [
        "<a href=\"https://colab.research.google.com/github/KelianF/MachineLearning/blob/master/Supervised/Linear_Regression.ipynb\" target=\"_parent\"><img src=\"https://colab.research.google.com/assets/colab-badge.svg\" alt=\"Open In Colab\"/></a>"
      ]
    },
    {
      "cell_type": "markdown",
      "metadata": {
        "id": "YpCK3YhYbXpt",
        "colab_type": "text"
      },
      "source": [
        "# Implementation of Linear Regression\n",
        "## Imports"
      ]
    },
    {
      "cell_type": "code",
      "metadata": {
        "id": "6Rcbqda9Uqip",
        "colab_type": "code",
        "colab": {}
      },
      "source": [
        "import numpy as np\n",
        "import matplotlib.pyplot as plt\n",
        "import seaborn as sns\n",
        "sns.set_style('darkgrid')"
      ],
      "execution_count": 0,
      "outputs": []
    },
    {
      "cell_type": "markdown",
      "metadata": {
        "id": "2avpSOXAbbpR",
        "colab_type": "text"
      },
      "source": [
        "## Set up data and display it"
      ]
    },
    {
      "cell_type": "code",
      "metadata": {
        "id": "1JmMOxP1VIau",
        "colab_type": "code",
        "outputId": "7ecd706b-5acf-46d7-8d4c-8a7b7c2e8745",
        "colab": {
          "base_uri": "https://localhost:8080/",
          "height": 300
        }
      },
      "source": [
        "#Defining the x array. \n",
        "x=np.array(range(1,100)) \n",
        "\n",
        "\n",
        "#Defining the y array. \n",
        "y=10+2*x.ravel() \n",
        "y=y+np.random.normal(loc=0, scale=70, size=99)\n",
        "\n",
        "\n",
        "plt.scatter(x,y, color='blue')\n",
        "plt.xlabel('x') \n",
        "plt.ylabel('y')\n"
      ],
      "execution_count": 2,
      "outputs": [
        {
          "output_type": "execute_result",
          "data": {
            "text/plain": [
              "Text(0, 0.5, 'y')"
            ]
          },
          "metadata": {
            "tags": []
          },
          "execution_count": 2
        },
        {
          "output_type": "display_data",
          "data": {
            "image/png": "[encoded data removed]",
            "text/plain": [
              "<Figure size 432x288 with 1 Axes>"
            ]
          },
          "metadata": {
            "tags": []
          }
        }
      ]
    },
    {
      "cell_type": "markdown",
      "metadata": {
        "id": "vBErbOFRV0wH",
        "colab_type": "text"
      },
      "source": [
        "# Using Scikit-Learn\n",
        "## Imports\n"
      ]
    },
    {
      "cell_type": "code",
      "metadata": {
        "id": "a8f6_L9ZdX1D",
        "colab_type": "code",
        "colab": {}
      },
      "source": [
        "from sklearn.linear_model import LinearRegression"
      ],
      "execution_count": 0,
      "outputs": []
    },
    {
      "cell_type": "markdown",
      "metadata": {
        "id": "fVH9GF0XqV5v",
        "colab_type": "text"
      },
      "source": [
        "## Code"
      ]
    },
    {
      "cell_type": "code",
      "metadata": {
        "id": "SAVtVyyAdkEA",
        "colab_type": "code",
        "colab": {}
      },
      "source": [
        "Reg = LinearRegression()\n",
        "Reg.fit(x[:, np.newaxis],y[:,np.newaxis])\n",
        "y_hat=Reg.predict(x[:, np.newaxis])\n"
      ],
      "execution_count": 0,
      "outputs": []
    },
    {
      "cell_type": "code",
      "metadata": {
        "id": "q0p2IIR7ekzK",
        "colab_type": "code",
        "outputId": "f7d0276b-7e4f-4987-d9b0-e34609adc106",
        "colab": {
          "base_uri": "https://localhost:8080/",
          "height": 69
        }
      },
      "source": [
        "print('Intercept is: ' + str(round(Reg.intercept_[0],3)))\n",
        "print('Coef is/are: ' + str(Reg.coef_))\n",
        "\n",
        "print('R2 is: ' + str(round(Reg.score(x[:, np.newaxis],y[:, np.newaxis]),2))) \n"
      ],
      "execution_count": 5,
      "outputs": [
        {
          "output_type": "stream",
          "text": [
            "Intercept is: 52.434\n",
            "Coef is/are: [[1.36012833]]\n",
            "R2 is: 0.24\n"
          ],
          "name": "stdout"
        }
      ]
    },
    {
      "cell_type": "markdown",
      "metadata": {
        "id": "1hS1cL7gCYtl",
        "colab_type": "text"
      },
      "source": [
        "## Graphical representation"
      ]
    },
    {
      "cell_type": "code",
      "metadata": {
        "id": "XaO7RRI5ANkJ",
        "colab_type": "code",
        "outputId": "cda59231-72a2-4802-ebc8-0e32916c95dc",
        "colab": {
          "base_uri": "https://localhost:8080/",
          "height": 283
        }
      },
      "source": [
        "plt.scatter(x,y, color='blue', label ='Actual data') \n",
        "plt.plot(x,y_hat, color='red', label ='Model')\n",
        "plt.plot((x[50],x[50]) ,(y[50], y_hat[50]), color='black')\n",
        "plt.xlabel('x') \n",
        "plt.ylabel('y')\n",
        "plt.legend()\n",
        "plt.show()"
      ],
      "execution_count": 6,
      "outputs": [
        {
          "output_type": "display_data",
          "data": {
            "image/png": "[encoded data removed]",
            "text/plain": [
              "<Figure size 432x288 with 1 Axes>"
            ]
          },
          "metadata": {
            "tags": []
          }
        }
      ]
    },
    {
      "cell_type": "markdown",
      "metadata": {
        "id": "fNpkBq_EJkYs",
        "colab_type": "text"
      },
      "source": [
        "This Graphical representation, shows the data and our model. \n",
        "\n",
        "I have added a line representing the difference between our model and the actual data, in econometrics, this is called ε. \n",
        "\n",
        "Hence, a regression is a minimisation problem of the sum of all the ε squared.\n",
        "\n",
        "\n",
        "Furthermore, the regression performed here is of the form Y on X, which explais why the ε is parallel to the Y axis. If the opposite was computed, the ε looked at for minimization would've been parallel to the X axis."
      ]
    },
    {
      "cell_type": "markdown",
      "metadata": {
        "id": "hQ0Z_jr6Oaan",
        "colab_type": "text"
      },
      "source": [
        "# Using Scipy\n",
        "\n",
        "## imports"
      ]
    },
    {
      "cell_type": "code",
      "metadata": {
        "id": "WyOhpm6_QLqO",
        "colab_type": "code",
        "colab": {}
      },
      "source": [
        "from scipy import stats"
      ],
      "execution_count": 0,
      "outputs": []
    },
    {
      "cell_type": "code",
      "metadata": {
        "id": "gIoSRwgUQPUE",
        "colab_type": "code",
        "colab": {}
      },
      "source": [
        "slope, intercept, r_value, p_value, std_err = stats.linregress(x,y)"
      ],
      "execution_count": 0,
      "outputs": []
    },
    {
      "cell_type": "code",
      "metadata": {
        "id": "NShbx8IXQT6f",
        "colab_type": "code",
        "outputId": "14bfb46b-9b99-4200-e3e6-f311f562692b",
        "colab": {
          "base_uri": "https://localhost:8080/",
          "height": 69
        }
      },
      "source": [
        "print('Intercept is: ' + str(round(intercept,3)))\n",
        "print('Coef is/are: ' + str(slope))\n",
        "\n",
        "print('R2 is: ' + str(round(r_value**2,2))) \n",
        "\n"
      ],
      "execution_count": 9,
      "outputs": [
        {
          "output_type": "stream",
          "text": [
            "Intercept is: 52.434\n",
            "Coef is/are: 1.3601283317895354\n",
            "R2 is: 0.24\n"
          ],
          "name": "stdout"
        }
      ]
    },
    {
      "cell_type": "markdown",
      "metadata": {
        "id": "4ZFsY3hbUUW6",
        "colab_type": "text"
      },
      "source": [
        "# Using TensorFlow\n",
        "\n",
        "## Import"
      ]
    },
    {
      "cell_type": "code",
      "metadata": {
        "id": "EsXaQuhKhAOp",
        "colab_type": "code",
        "colab": {}
      },
      "source": [
        "import tensorflow as tf"
      ],
      "execution_count": 0,
      "outputs": []
    },
    {
      "cell_type": "markdown",
      "metadata": {
        "id": "TkjVhBvXqaTo",
        "colab_type": "text"
      },
      "source": [
        "## Code"
      ]
    },
    {
      "cell_type": "code",
      "metadata": {
        "id": "MhXK6PvmhazI",
        "colab_type": "code",
        "outputId": "0d945838-e884-485c-a540-f8395341bb8b",
        "colab": {
          "base_uri": "https://localhost:8080/",
          "height": 107
        }
      },
      "source": [
        "# Defining the placeholder that we can input in the optimizer.\n",
        "\n",
        "X = tf.placeholder(\"float\") \n",
        "Y = tf.placeholder(\"float\") \n",
        "\n",
        "# Declaring two trainable TF variables for the weight and bias (initialized randomly), and two parameters: The learning rate and the epochs.\n",
        "\n",
        "W = tf.Variable(np.random.randn(), name = \"W\") \n",
        "b = tf.Variable(np.random.randn(), name = \"b\") \n",
        "\n",
        "learning_rate = 0.01\n",
        "training_epochs = 1000\n",
        "\n",
        "# Hypothesis \n",
        "y_pred = tf.add(tf.multiply(X, W), b) \n",
        "  \n",
        "# Mean Squared Error Cost Function \n",
        "cost = tf.reduce_sum(tf.pow(y_pred-Y, 2)) / (2 * len(x)) \n",
        "  \n",
        "# Gradient Descent Optimizer \n",
        "optimizer = tf.train.GradientDescentOptimizer(learning_rate).minimize(cost) \n",
        "  \n",
        "# Global Variables Initializer \n",
        "init = tf.global_variables_initializer() "
      ],
      "execution_count": 11,
      "outputs": [
        {
          "output_type": "stream",
          "text": [
            "WARNING: Logging before flag parsing goes to stderr.\n",
            "W0721 01:05:43.239559 140073700886400 deprecation.py:323] From /usr/local/lib/python3.6/dist-packages/tensorflow/python/ops/math_grad.py:1205: add_dispatch_support.<locals>.wrapper (from tensorflow.python.ops.array_ops) is deprecated and will be removed in a future version.\n",
            "Instructions for updating:\n",
            "Use tf.where in 2.0, which has the same broadcast rule as np.where\n"
          ],
          "name": "stderr"
        }
      ]
    },
    {
      "cell_type": "code",
      "metadata": {
        "id": "mz2UooosjTvS",
        "colab_type": "code",
        "outputId": "1afb45ad-f636-4612-aeab-21d193a50981",
        "colab": {
          "base_uri": "https://localhost:8080/",
          "height": 402
        }
      },
      "source": [
        "# Starting the Tensorflow Session \n",
        "with tf.Session() as sess: \n",
        "      \n",
        "    # Initializing the Variables \n",
        "    sess.run(init) \n",
        "      \n",
        "    # Iterating through all the epochs \n",
        "    for epoch in range(training_epochs): \n",
        "          \n",
        "        # Feeding each data point into the optimizer using Feed Dictionary \n",
        "        for (_x, _y) in zip(x, y): \n",
        "            sess.run(optimizer, feed_dict = {X : _x, Y : _y}) \n",
        "\n",
        "        if (epoch + 1) % 50 == 0:  # Displaying the result after every 50 epochs \n",
        "            # Calculating the cost a every epoch \n",
        "            c = sess.run(cost, feed_dict = {X : x, Y : y}) \n",
        "            print(\"Epoch\", (epoch + 1), \": cost =\", c, \"W =\", sess.run(W), \"b =\", sess.run(b)) \n",
        "\n",
        "    training_cost = sess.run(cost, feed_dict ={X: x, Y: y})  # Storing necessary values to be used outside the Session \n",
        "    weight = sess.run(W) \n",
        "    bias = sess.run(b) \n",
        "\n",
        "# Calculating the predictions \n",
        "predictions = weight * x + bias \n",
        "print(\"Training cost =\", training_cost, \",Weight =\", weight, \",bias =\", bias, '\\n') "
      ],
      "execution_count": 12,
      "outputs": [
        {
          "output_type": "stream",
          "text": [
            "Epoch 50 : cost = 5880.4136 W = 0.663797 b = 6.0494676\n",
            "Epoch 100 : cost = 5681.5 W = 0.60375315 b = 11.993205\n",
            "Epoch 150 : cost = 5507.104 W = 0.54797345 b = 17.514826\n",
            "Epoch 200 : cost = 5354.0645 W = 0.49615604 b = 22.644209\n",
            "Epoch 250 : cost = 5219.6333 W = 0.44801897 b = 27.40928\n",
            "Epoch 300 : cost = 5101.428 W = 0.40330127 b = 31.835876\n",
            "Epoch 350 : cost = 4997.3823 W = 0.36175936 b = 35.948086\n",
            "Epoch 400 : cost = 4905.6997 W = 0.32316816 b = 39.768227\n",
            "Epoch 450 : cost = 4824.822 W = 0.28731796 b = 43.317017\n",
            "Epoch 500 : cost = 4753.391 W = 0.254014 b = 46.613777\n",
            "Epoch 550 : cost = 4690.2324 W = 0.22307597 b = 49.676323\n",
            "Epoch 600 : cost = 4634.319 W = 0.19433546 b = 52.521336\n",
            "Epoch 650 : cost = 4584.755 W = 0.1676354 b = 55.16436\n",
            "Epoch 700 : cost = 4540.768 W = 0.14283308 b = 57.61954\n",
            "Epoch 750 : cost = 4501.678 W = 0.119792044 b = 59.900368\n",
            "Epoch 800 : cost = 4466.8945 W = 0.09838665 b = 62.019264\n",
            "Epoch 850 : cost = 4435.9023 W = 0.07850267 b = 63.98758\n",
            "Epoch 900 : cost = 4408.2515 W = 0.060030755 b = 65.8161\n",
            "Epoch 950 : cost = 4383.5557 W = 0.042877153 b = 67.51414\n",
            "Epoch 1000 : cost = 4361.443 W = 0.026927808 b = 69.09296\n",
            "Training cost = 4361.443 ,Weight = 0.026927808 ,bias = 69.09296 \n",
            "\n"
          ],
          "name": "stdout"
        }
      ]
    },
    {
      "cell_type": "markdown",
      "metadata": {
        "id": "XGpRe10Tlt1G",
        "colab_type": "text"
      },
      "source": [
        "In this case, the method to solve the linear regression minimization problem is to perform a gradiant descent, the reason it has not been performed that way in the previous two cases is that linear regression has a closed formula (More explanation below), which is quite rare in optimization problem.\n",
        "\n",
        "Hence, the TensorFlow solution is more general for optimization problems."
      ]
    },
    {
      "cell_type": "markdown",
      "metadata": {
        "id": "CblhM-w7qdRe",
        "colab_type": "text"
      },
      "source": [
        "## Graphical representation"
      ]
    },
    {
      "cell_type": "code",
      "metadata": {
        "id": "IqfoViJvmHre",
        "colab_type": "code",
        "outputId": "8f4f72d7-0215-4663-e986-de7dbe7b87b4",
        "colab": {
          "base_uri": "https://localhost:8080/",
          "height": 286
        }
      },
      "source": [
        "plt.plot(x, y, 'ro', color='blue') \n",
        "plt.plot(x, predictions, color='red')"
      ],
      "execution_count": 13,
      "outputs": [
        {
          "output_type": "execute_result",
          "data": {
            "text/plain": [
              "[<matplotlib.lines.Line2D at 0x7f652ccd6588>]"
            ]
          },
          "metadata": {
            "tags": []
          },
          "execution_count": 13
        },
        {
          "output_type": "display_data",
          "data": {
            "image/png": "[encoded data removed]",
            "text/plain": [
              "<Figure size 432x288 with 1 Axes>"
            ]
          },
          "metadata": {
            "tags": []
          }
        }
      ]
    },
    {
      "cell_type": "markdown",
      "metadata": {
        "id": "0QfdtCrKnDee",
        "colab_type": "text"
      },
      "source": [
        "# Linear Regression from scratch and explanation"
      ]
    },
    {
      "cell_type": "markdown",
      "metadata": {
        "id": "hLXI8z02r4Zs",
        "colab_type": "text"
      },
      "source": [
        "The OLS Equation looks as follow:\n",
        "\\begin{equation}\n",
        "y = X\\hat{β} + ϵ\\end{equation}\n",
        "\n",
        "In this equation:\n",
        "β is the vector of weight of the X independent variables, ϵ represent the error vector.\n",
        "\n",
        "Hence, the Sum of Squred Residual, can be written as follow:\n",
        "\\begin{equation}\n",
        "e = y − X\\hat{β}\\end{equation}\n",
        "\n",
        "\n",
        "Which gives us:\n",
        "\\begin{equation}\n",
        "e'e = (y − X\\hat{β})'(y − X\\hat{β})\\end{equation}\n",
        "       \\begin{equation}\n",
        "    = y'y - \\hat{β}'X'y - y'X\\hat{β} + β'X'Xβ\\end{equation}\n",
        "    \\begin{equation}\n",
        "    = y'y - 2\\hat{β}'X'y + \\hat{β}'X'X\\hat{β}\\end{equation}\n",
        "    \n",
        "\n",
        "Using the differential method to find the minimum:\n",
        "\n",
        "\\begin{equation}\n",
        "\\frac{∂e'e}{\\hat{β}} = 2X'y + 2X'X\\hat{β} = 0\n",
        "\\end{equation}\n",
        "   \n",
        "To check if it is indeed a minimum, it is possible to take the second derivative with respect to β, which would give us: 2X'X. Hence, so long as X has full rank, this is a positive definite matrix, and thus a minimum.\n",
        "\\begin{equation}\n",
        "(X'X)\\hat{β} = X'y\n",
        "\\end{equation}\\begin{equation}\n",
        "(X'X)^{-1}(X'X)\\hat{β} = (X'X)^{-1}X'y\n",
        "\\end{equation}\n",
        "By definition: \\begin{equation} (X'X)^{-1}(X'X) = I \\end{equation}\n",
        "\n",
        "Giving us:\n",
        "\\begin{equation}\n",
        "I \\hat{β}  = (X'X)^{-1}X'y\n",
        "\\end{equation} \n",
        "\\begin{equation}\n",
        "\\hat{β}  = (X'X)^{-1}X'y \\end{equation}\n",
        "\n",
        "\n",
        "       \n",
        "       \n",
        "       \n",
        "       "
      ]
    },
    {
      "cell_type": "code",
      "metadata": {
        "id": "0J7_Iix2xwyf",
        "colab_type": "code",
        "outputId": "c4f85f39-2700-4cab-dcb5-0487ecd7cad9",
        "colab": {
          "base_uri": "https://localhost:8080/",
          "height": 52
        }
      },
      "source": [
        "# Let's first define X using the previous x and adding a first column of ones:\n",
        "\n",
        "X = np.hstack((np.ones((len(x),1)) ,x[:, np.newaxis]))\n",
        "\n",
        "# Now we can simply use the previously derived formula:\n",
        "Intercept, Slope = np.linalg.inv(X.T @ X) @ (X.T @ y)\n",
        "\n",
        "print('Intercept is: ' + str(round(Intercept,3)))\n",
        "print('Coef is: ' + str(Slope))"
      ],
      "execution_count": 14,
      "outputs": [
        {
          "output_type": "stream",
          "text": [
            "Intercept is: 52.434\n",
            "Coef is: 1.3601283317895376\n"
          ],
          "name": "stdout"
        }
      ]
    },
    {
      "cell_type": "markdown",
      "metadata": {
        "id": "jPxweEywzIXR",
        "colab_type": "text"
      },
      "source": [
        "This, Should, gives us the same values as previously obtained with Sklearn, Scipy and TensorFlow.\n",
        "However, it should be noted that complexity is an important parameter in any algorithm, in this case, computing the inverse of X'.X is about O(n2.4) to O(n3) depending on the implementation.\n",
        "\n",
        "Hence, it can be interesting to use a training model to find the solution instead of a closed formula. Which introduces the next step: Gradient Descent\n"
      ]
    },
    {
      "cell_type": "markdown",
      "metadata": {
        "id": "slvD2ni_D2gS",
        "colab_type": "text"
      },
      "source": [
        "# Gradient Descent"
      ]
    },
    {
      "cell_type": "code",
      "metadata": {
        "id": "gs5HOiHMz9HZ",
        "colab_type": "code",
        "colab": {}
      },
      "source": [
        "alpha = 0.0001  # Which will be the learning rate\n",
        "NbrIter = 1000000  # Representing the number of iteration\n",
        "m = len(y)\n",
        "theta = np.random.randn(2,1)\n",
        "Y = y.reshape(-1,1)\n",
        "\n",
        "for iter in range(NbrIter):\n",
        "\n",
        "    theta = theta - (1/m) * alpha * ( X.T @ ((X @ theta) - Y) )"
      ],
      "execution_count": 0,
      "outputs": []
    },
    {
      "cell_type": "code",
      "metadata": {
        "id": "zw5f0_cLCnLh",
        "colab_type": "code",
        "colab": {
          "base_uri": "https://localhost:8080/",
          "height": 52
        },
        "outputId": "31ec39b1-6010-47cf-d099-7f37fa05dbce"
      },
      "source": [
        "print('Intercept is: ' + str(round(theta[0][0],3)))\n",
        "print('Coef is: ' + str(theta[1][0]))"
      ],
      "execution_count": 34,
      "outputs": [
        {
          "output_type": "stream",
          "text": [
            "Intercept is: 52.434\n",
            "Coef is: 1.3601283318052428\n"
          ],
          "name": "stdout"
        }
      ]
    },
    {
      "cell_type": "code",
      "metadata": {
        "id": "0kbbEQQKE2ya",
        "colab_type": "code",
        "colab": {}
      },
      "source": [
        ""
      ],
      "execution_count": 0,
      "outputs": []
    }
  ]
}